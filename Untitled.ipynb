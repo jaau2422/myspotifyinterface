{
 "cells": [
  {
   "cell_type": "code",
   "execution_count": 3,
   "id": "9554ae54",
   "metadata": {},
   "outputs": [],
   "source": [
    "import spotipy\n",
    "import json\n",
    "import webbrowser\n",
    "import urllib.request\n",
    "import spotipy.util as util"
   ]
  },
  {
   "cell_type": "code",
   "execution_count": 6,
   "id": "252ab824",
   "metadata": {},
   "outputs": [],
   "source": [
    "request = urllib.request.Request(\"https://weatherdbi.herokuapp.com/data/weather/london\")\n",
    "response = urllib.request.urlopen(request)"
   ]
  },
  {
   "cell_type": "code",
   "execution_count": 7,
   "id": "e2e0b62b",
   "metadata": {},
   "outputs": [
    {
     "data": {
      "text/plain": [
       "http.client.HTTPResponse"
      ]
     },
     "execution_count": 7,
     "metadata": {},
     "output_type": "execute_result"
    }
   ],
   "source": [
    "type(response)"
   ]
  },
  {
   "cell_type": "code",
   "execution_count": 8,
   "id": "a710590d",
   "metadata": {},
   "outputs": [],
   "source": [
    "weather = json.loads(response.read())\n"
   ]
  },
  {
   "cell_type": "code",
   "execution_count": 9,
   "id": "1353fb4b",
   "metadata": {},
   "outputs": [
    {
     "name": "stdout",
     "output_type": "stream",
     "text": [
      "{'region': 'London, UK', 'currentConditions': {'dayhour': 'Wednesday 3:00 PM', 'temp': {'c': 12, 'f': 54}, 'precip': '7%', 'humidity': '63%', 'wind': {'km': 18, 'mile': 11}, 'iconURL': 'https://ssl.gstatic.com/onebox/weather/64/partly_cloudy.png', 'comment': 'Partly cloudy'}, 'next_days': [{'day': 'Wednesday', 'comment': 'Partly cloudy', 'max_temp': {'c': 13, 'f': 55}, 'min_temp': {'c': 7, 'f': 44}, 'iconURL': 'https://ssl.gstatic.com/onebox/weather/48/partly_cloudy.png'}, {'day': 'Thursday', 'comment': 'Rain', 'max_temp': {'c': 13, 'f': 55}, 'min_temp': {'c': 7, 'f': 44}, 'iconURL': 'https://ssl.gstatic.com/onebox/weather/48/rain.png'}, {'day': 'Friday', 'comment': 'Mostly sunny', 'max_temp': {'c': 12, 'f': 53}, 'min_temp': {'c': 5, 'f': 41}, 'iconURL': 'https://ssl.gstatic.com/onebox/weather/48/partly_cloudy.png'}, {'day': 'Saturday', 'comment': 'Cloudy', 'max_temp': {'c': 12, 'f': 54}, 'min_temp': {'c': 11, 'f': 51}, 'iconURL': 'https://ssl.gstatic.com/onebox/weather/48/cloudy.png'}, {'day': 'Sunday', 'comment': 'Showers', 'max_temp': {'c': 12, 'f': 53}, 'min_temp': {'c': 6, 'f': 43}, 'iconURL': 'https://ssl.gstatic.com/onebox/weather/48/rain_light.png'}, {'day': 'Monday', 'comment': 'Partly cloudy', 'max_temp': {'c': 10, 'f': 50}, 'min_temp': {'c': 5, 'f': 41}, 'iconURL': 'https://ssl.gstatic.com/onebox/weather/48/partly_cloudy.png'}, {'day': 'Tuesday', 'comment': 'Showers', 'max_temp': {'c': 9, 'f': 48}, 'min_temp': {'c': 4, 'f': 40}, 'iconURL': 'https://ssl.gstatic.com/onebox/weather/48/rain_light.png'}, {'day': 'Wednesday', 'comment': 'Scattered showers', 'max_temp': {'c': 8, 'f': 46}, 'min_temp': {'c': 5, 'f': 41}, 'iconURL': 'https://ssl.gstatic.com/onebox/weather/48/rain_s_cloudy.png'}], 'contact_author': {'email': 'communication.with.users@gmail.com', 'auth_note': 'Mail me for feature requests, improvement, bug, help, ect... Please tell me if you want me to provide any other free easy-to-use API services'}, 'data_source': 'https://www.google.com/search?lr=lang_en&q=weather+in+london'}\n"
     ]
    }
   ],
   "source": [
    "print(weather)\n"
   ]
  },
  {
   "cell_type": "code",
   "execution_count": 10,
   "id": "aeaebd83",
   "metadata": {},
   "outputs": [],
   "source": [
    "forecast = weather[\"currentConditions\"][\"comment\"]"
   ]
  },
  {
   "cell_type": "code",
   "execution_count": 11,
   "id": "91a4ef55",
   "metadata": {},
   "outputs": [
    {
     "data": {
      "text/plain": [
       "'Partly cloudy'"
      ]
     },
     "execution_count": 11,
     "metadata": {},
     "output_type": "execute_result"
    }
   ],
   "source": [
    "forecast\n"
   ]
  },
  {
   "cell_type": "code",
   "execution_count": 12,
   "id": "77d32a17",
   "metadata": {},
   "outputs": [],
   "source": [
    "credentials = \"spotify_keys.json\"\n",
    "with open(credentials, \"r\") as keys:\n",
    "    api_tokens = json.load(keys)"
   ]
  },
  {
   "cell_type": "code",
   "execution_count": 14,
   "id": "99cf0538",
   "metadata": {},
   "outputs": [
    {
     "ename": "KeyError",
     "evalue": "'6930322939ab4b05bb6cba919abc931e'",
     "output_type": "error",
     "traceback": [
      "\u001b[1;31m---------------------------------------------------------------------------\u001b[0m",
      "\u001b[1;31mKeyError\u001b[0m                                  Traceback (most recent call last)",
      "Cell \u001b[1;32mIn [14], line 1\u001b[0m\n\u001b[1;32m----> 1\u001b[0m client_id \u001b[38;5;241m=\u001b[39m \u001b[43mapi_tokens\u001b[49m\u001b[43m[\u001b[49m\u001b[38;5;124;43m\"\u001b[39;49m\u001b[38;5;124;43m6930322939ab4b05bb6cba919abc931e\u001b[39;49m\u001b[38;5;124;43m\"\u001b[39;49m\u001b[43m]\u001b[49m\n\u001b[0;32m      2\u001b[0m client_secret \u001b[38;5;241m=\u001b[39m api_tokens[\u001b[38;5;124m\"\u001b[39m\u001b[38;5;124my4f8882601c9f4514a888d6933e2ba91a\u001b[39m\u001b[38;5;124m\"\u001b[39m]\n\u001b[0;32m      3\u001b[0m redirectURI \u001b[38;5;241m=\u001b[39m api_tokens[\u001b[38;5;124m\"\u001b[39m\u001b[38;5;124mhttp://google.com/\u001b[39m\u001b[38;5;124m\"\u001b[39m]\n",
      "\u001b[1;31mKeyError\u001b[0m: '6930322939ab4b05bb6cba919abc931e'"
     ]
    }
   ],
   "source": [
    "client_id = api_tokens[\"6930322939ab4b05bb6cba919abc931e\"]\n",
    "client_secret = api_tokens[\"y4f8882601c9f4514a888d6933e2ba91a\"]\n",
    "redirectURI = api_tokens[\"http://google.com/\"]\n",
    "username = api_tokens[\"yaqlmswdre52q8434ma4z7zxq\"]"
   ]
  },
  {
   "cell_type": "code",
   "execution_count": null,
   "id": "c23a2c00",
   "metadata": {},
   "outputs": [],
   "source": []
  }
 ],
 "metadata": {
  "kernelspec": {
   "display_name": "Python 3 (ipykernel)",
   "language": "python",
   "name": "python3"
  },
  "language_info": {
   "codemirror_mode": {
    "name": "ipython",
    "version": 3
   },
   "file_extension": ".py",
   "mimetype": "text/x-python",
   "name": "python",
   "nbconvert_exporter": "python",
   "pygments_lexer": "ipython3",
   "version": "3.11.0"
  }
 },
 "nbformat": 4,
 "nbformat_minor": 5
}
